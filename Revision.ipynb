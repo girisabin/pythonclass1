{
 "cells": [
  {
   "cell_type": "code",
   "execution_count": 1,
   "id": "7226af05-3f28-4c1d-8163-3de26241005c",
   "metadata": {},
   "outputs": [
    {
     "name": "stdout",
     "output_type": "stream",
     "text": [
      "Sabin\n"
     ]
    }
   ],
   "source": [
    "name = \"Sabin\"\n",
    "print(name)"
   ]
  },
  {
   "cell_type": "code",
   "execution_count": 3,
   "id": "bc4ce0d0-1b6a-4ef4-bb8b-5e1303ce0d57",
   "metadata": {},
   "outputs": [],
   "source": [
    "def sum(a,b):\n",
    "    print(a+b)\n",
    "\n"
   ]
  },
  {
   "cell_type": "code",
   "execution_count": 5,
   "id": "aec9d883-19d7-4a3f-ace2-0d3bdd878f61",
   "metadata": {},
   "outputs": [
    {
     "name": "stdout",
     "output_type": "stream",
     "text": [
      "7\n"
     ]
    }
   ],
   "source": [
    "sum(2,5)\n"
   ]
  },
  {
   "cell_type": "code",
   "execution_count": 21,
   "id": "690fbe93-4c68-4e7f-9d41-86fe1201f215",
   "metadata": {},
   "outputs": [],
   "source": [
    "def odd_even(number):\n",
    "    if number %2 == 0:\n",
    "        print(\"even\")\n",
    "    else:\n",
    "        print(\"odd\")\n",
    "       \n",
    "        \n",
    "              \n",
    "\n",
    "              "
   ]
  },
  {
   "cell_type": "code",
   "execution_count": 23,
   "id": "c372c817-4930-42da-8f4a-7f980e32557a",
   "metadata": {},
   "outputs": [
    {
     "name": "stdin",
     "output_type": "stream",
     "text": [
      "enter a integer number 45\n"
     ]
    },
    {
     "name": "stdout",
     "output_type": "stream",
     "text": [
      "odd\n"
     ]
    }
   ],
   "source": [
    "num = int(input(\"enter a integer number\"))\n",
    "numb = odd_even(num)\n",
    "if numb  == \"even\":\n",
    "    print(\"yo even ho\")\n",
    "elif numb == \"odd\":\n",
    "    print(\"yo odd ho\")"
   ]
  },
  {
   "cell_type": "code",
   "execution_count": 1,
   "id": "92866241-dcf3-4919-818c-cb43bc0d9b4d",
   "metadata": {},
   "outputs": [
    {
     "name": "stdout",
     "output_type": "stream",
     "text": [
      "hello\n"
     ]
    }
   ],
   "source": [
    "print(\"hello\")"
   ]
  },
  {
   "cell_type": "code",
   "execution_count": null,
   "id": "bfc56615-a0db-4d01-9742-5e4c376e472a",
   "metadata": {},
   "outputs": [],
   "source": []
  }
 ],
 "metadata": {
  "kernelspec": {
   "display_name": "Python 3 (ipykernel)",
   "language": "python",
   "name": "python3"
  },
  "language_info": {
   "codemirror_mode": {
    "name": "ipython",
    "version": 3
   },
   "file_extension": ".py",
   "mimetype": "text/x-python",
   "name": "python",
   "nbconvert_exporter": "python",
   "pygments_lexer": "ipython3",
   "version": "3.13.0"
  }
 },
 "nbformat": 4,
 "nbformat_minor": 5
}
