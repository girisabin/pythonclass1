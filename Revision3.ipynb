{
 "cells": [
  {
   "cell_type": "code",
   "execution_count": 1,
   "id": "973bec0f-e321-48f9-b525-08f548f991ef",
   "metadata": {},
   "outputs": [],
   "source": [
    "from random import randint\n"
   ]
  },
  {
   "cell_type": "code",
   "execution_count": 5,
   "id": "f098092c-b9fb-46ca-ad8f-cbe5cc31c418",
   "metadata": {},
   "outputs": [],
   "source": [
    "random_number = randint(1,100)\n",
    "print(random_number)"
   ]
  },
  {
   "cell_type": "code",
   "execution_count": 6,
   "id": "3aa8b26b-cc85-4c7d-8bb0-278de42acf9d",
   "metadata": {},
   "outputs": [
    {
     "name": "stdin",
     "output_type": "stream",
     "text": [
      "Enter your guess user : \n",
      " 23\n"
     ]
    },
    {
     "name": "stdout",
     "output_type": "stream",
     "text": [
      "Sorry wrong please try again\n"
     ]
    },
    {
     "name": "stdin",
     "output_type": "stream",
     "text": [
      "Enter your guess user : \n",
      " 24\n"
     ]
    },
    {
     "name": "stdout",
     "output_type": "stream",
     "text": [
      "Sorry wrong please try again\n"
     ]
    },
    {
     "name": "stdin",
     "output_type": "stream",
     "text": [
      "Enter your guess user : \n",
      " 45\n"
     ]
    },
    {
     "name": "stdout",
     "output_type": "stream",
     "text": [
      "Sorry wrong please try again\n"
     ]
    },
    {
     "name": "stdin",
     "output_type": "stream",
     "text": [
      "Enter your guess user : \n",
      " 27\n"
     ]
    },
    {
     "name": "stdout",
     "output_type": "stream",
     "text": [
      "Sorry wrong please try again\n"
     ]
    },
    {
     "name": "stdin",
     "output_type": "stream",
     "text": [
      "Enter your guess user : \n",
      " 11\n"
     ]
    },
    {
     "name": "stdout",
     "output_type": "stream",
     "text": [
      "Sorry wrong please try again\n"
     ]
    }
   ],
   "source": [
    "for i in range(5):\n",
    "    user_guess = int(input(\"Enter your guess user : \\n\"))\n",
    "    if random_number == user_guess:\n",
    "        print(\"Congrulation , you won the game\")\n",
    "        break\n",
    "    else:\n",
    "        print(\"Sorry wrong please try again\")\n",
    "else:\n",
    "    print(\"You exhausted all your attempts\")\n",
    "    \n",
    "                     "
   ]
  },
  {
   "cell_type": "code",
   "execution_count": 2,
   "id": "a7baa2dd-8288-4201-92a6-c0275a3d047c",
   "metadata": {},
   "outputs": [
    {
     "name": "stdout",
     "output_type": "stream",
     "text": [
      "[78, 13, 26]\n"
     ]
    }
   ],
   "source": [
    "from random import randint\n",
    "random_num1 = randint(1,100)\n",
    "random_num2 = randint(1,100)\n",
    "random_num3 = randint(1,100)\n",
    "randomly_generated_num = [random_num1,random_num2,random_num3]\n",
    "print(randomly_generated_num)\n"
   ]
  },
  {
   "cell_type": "code",
   "execution_count": 4,
   "id": "c6e441a1-f233-435a-a2af-f190f7ba537f",
   "metadata": {},
   "outputs": [
    {
     "name": "stdin",
     "output_type": "stream",
     "text": [
      "Enter a guess number:\n",
      " 78\n"
     ]
    },
    {
     "name": "stdout",
     "output_type": "stream",
     "text": [
      "Congratulation you won the game\n"
     ]
    }
   ],
   "source": [
    "for i in range(5):\n",
    "    user_guess = int(input(\"Enter a guess number:\\n\"))\n",
    "    if user_guess in randomly_generated_num:\n",
    "        print(\"Congratulation you won the game\")\n",
    "        break\n",
    "    else:\n",
    "        print(\"Sorry wrong guess,please try again\")\n",
    "else:\n",
    "    print(\"You have no attemps left\")\n",
    "    \n",
    "    \n",
    "    \n"
   ]
  },
  {
   "cell_type": "code",
   "execution_count": 15,
   "id": "ac444351-6a12-48ca-81d6-03ab4eb40516",
   "metadata": {},
   "outputs": [
    {
     "name": "stdin",
     "output_type": "stream",
     "text": [
      "Enter range:\n",
      " 100\n"
     ]
    },
    {
     "data": {
      "text/plain": [
       "[2,\n",
       " 3,\n",
       " 4,\n",
       " 5,\n",
       " 6,\n",
       " 7,\n",
       " 8,\n",
       " 9,\n",
       " 11,\n",
       " 12,\n",
       " 16,\n",
       " 17,\n",
       " 18,\n",
       " 19,\n",
       " 20,\n",
       " 21,\n",
       " 23,\n",
       " 24,\n",
       " 25,\n",
       " 26,\n",
       " 27,\n",
       " 28,\n",
       " 31,\n",
       " 32,\n",
       " 33,\n",
       " 40,\n",
       " 41,\n",
       " 43,\n",
       " 44,\n",
       " 46,\n",
       " 50,\n",
       " 52,\n",
       " 53,\n",
       " 59,\n",
       " 62,\n",
       " 65,\n",
       " 67,\n",
       " 69,\n",
       " 70,\n",
       " 71,\n",
       " 72,\n",
       " 73,\n",
       " 75,\n",
       " 77,\n",
       " 78,\n",
       " 79,\n",
       " 82,\n",
       " 83,\n",
       " 85,\n",
       " 86,\n",
       " 87,\n",
       " 89,\n",
       " 90,\n",
       " 91,\n",
       " 92,\n",
       " 94,\n",
       " 98,\n",
       " 99]"
      ]
     },
     "execution_count": 15,
     "metadata": {},
     "output_type": "execute_result"
    }
   ],
   "source": [
    "from random import randint\n",
    "range1 = int(input(\"Enter range:\\n\"))\n",
    "random_numbers_list = []\n",
    "for i in range(range1):\n",
    "    random_numbers_list.append(randint(1,100))\n",
    "random_numbers_list = list(set(random_numbers_list))\n",
    "random_numbers_list\n",
    "\n"
   ]
  },
  {
   "cell_type": "code",
   "execution_count": 18,
   "id": "858ece07-4ebb-43b8-a5a5-7f45de89131d",
   "metadata": {},
   "outputs": [
    {
     "name": "stdin",
     "output_type": "stream",
     "text": [
      "Enter a guess number:\n",
      " 100\n"
     ]
    },
    {
     "name": "stdout",
     "output_type": "stream",
     "text": [
      "Sorry wrong guess,please try again\n"
     ]
    },
    {
     "name": "stdin",
     "output_type": "stream",
     "text": [
      "Enter a guess number:\n",
      " 100\n"
     ]
    },
    {
     "name": "stdout",
     "output_type": "stream",
     "text": [
      "Sorry wrong guess,please try again\n"
     ]
    },
    {
     "name": "stdin",
     "output_type": "stream",
     "text": [
      "Enter a guess number:\n",
      " 100\n"
     ]
    },
    {
     "name": "stdout",
     "output_type": "stream",
     "text": [
      "Sorry wrong guess,please try again\n"
     ]
    },
    {
     "name": "stdin",
     "output_type": "stream",
     "text": [
      "Enter a guess number:\n",
      " 100\n"
     ]
    },
    {
     "name": "stdout",
     "output_type": "stream",
     "text": [
      "Sorry wrong guess,please try again\n"
     ]
    },
    {
     "name": "stdin",
     "output_type": "stream",
     "text": [
      "Enter a guess number:\n",
      " 100\n"
     ]
    },
    {
     "name": "stdout",
     "output_type": "stream",
     "text": [
      "Sorry wrong guess,please try again\n",
      "You have 0 attempts left\n"
     ]
    }
   ],
   "source": [
    "loop_range = 1\n",
    "while loop_range < 6:\n",
    "    user_guess = int(input(\"Enter a guess number:\\n\"))\n",
    "    if user_guess in random_numbers_list:\n",
    "        print(\"Congratulation you won the game\")\n",
    "        break\n",
    "    else:\n",
    "        print(\"Sorry wrong guess,please try again\")\n",
    "    loop_range += 1\n",
    "    \n",
    "else:\n",
    "    print(\"You have 0 attempts left\")"
   ]
  },
  {
   "cell_type": "code",
   "execution_count": 30,
   "id": "98c2f229-775a-4cea-977d-8dacc5d46f46",
   "metadata": {},
   "outputs": [
    {
     "name": "stdin",
     "output_type": "stream",
     "text": [
      "Enter your name:\n",
      " Bobby\n"
     ]
    },
    {
     "name": "stdout",
     "output_type": "stream",
     "text": [
      "Bobby says Hello!!!\n"
     ]
    }
   ],
   "source": [
    "class Dog:\n",
    "    def __init__(self,name):\n",
    "        self.name = name\n",
    "    def bark(self):\n",
    "        print(f\"{self.name} says Hello!!!\")\n",
    "name = input(\"Enter your name:\\n\")        \n",
    "dog = Dog(name)  \n",
    "dog.bark()"
   ]
  },
  {
   "cell_type": "code",
   "execution_count": null,
   "id": "673f2a88-623b-4729-b08c-18a3ba3958e3",
   "metadata": {},
   "outputs": [],
   "source": []
  }
 ],
 "metadata": {
  "kernelspec": {
   "display_name": "Python 3 (ipykernel)",
   "language": "python",
   "name": "python3"
  },
  "language_info": {
   "codemirror_mode": {
    "name": "ipython",
    "version": 3
   },
   "file_extension": ".py",
   "mimetype": "text/x-python",
   "name": "python",
   "nbconvert_exporter": "python",
   "pygments_lexer": "ipython3",
   "version": "3.13.0"
  }
 },
 "nbformat": 4,
 "nbformat_minor": 5
}
